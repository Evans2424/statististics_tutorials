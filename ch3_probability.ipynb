{
 "cells": [
  {
   "cell_type": "markdown",
   "metadata": {},
   "source": [
    "# Probability"
   ]
  },
  {
   "cell_type": "markdown",
   "metadata": {},
   "source": [
    "## Hot Hands"
   ]
  },
  {
   "cell_type": "markdown",
   "metadata": {},
   "source": [
    "Basketball players who make several baskets in succession are described as having a hot hand. Fans and players have long believed in the hot hand phenomenon, which refutes the assumption that each shot is independent of the next. However, a 1985 [paper](https://www.cs.colorado.edu/~mozer/Teaching/syllabi/7782/readings/gilovich%20vallone%20tversky.pdf) by Gilovich, Vallone, and Tversky collected evidence that contradicted this belief and showed that successive shots are independent events. This paper started a great controversy that continues to this day, as you can see by Googling hot hand basketball.\n",
    "\n",
    "We do not expect to resolve this controversy today. However, in this lab we'll apply one approach to answering questions like this. The goals for this lab are to (1) think about the effects of independent and dependent events, (2) learn how to simulate shooting streaks in Python, and (3) to compare a simulation to actual data in order to determine if the hot hand phenomenon appears to be real."
   ]
  },
  {
   "cell_type": "markdown",
   "metadata": {},
   "source": [
    "## Getting started"
   ]
  },
  {
   "cell_type": "markdown",
   "metadata": {},
   "source": [
    "Our investigation will focus on the performance of one player: Kobe Bryant of the Los Angeles Lakers. His performance against the Orlando Magic in the 2009 NBA finals earned him the title Most Valuable Player and many spectators commented on how he appeared to show a hot hand. Let's load some data from those games and look at the first several rows."
   ]
  },
  {
   "cell_type": "code",
   "execution_count": 1,
   "metadata": {},
   "outputs": [
    {
     "data": {
      "text/html": [
       "<div>\n",
       "<style scoped>\n",
       "    .dataframe tbody tr th:only-of-type {\n",
       "        vertical-align: middle;\n",
       "    }\n",
       "\n",
       "    .dataframe tbody tr th {\n",
       "        vertical-align: top;\n",
       "    }\n",
       "\n",
       "    .dataframe thead th {\n",
       "        text-align: right;\n",
       "    }\n",
       "</style>\n",
       "<table border=\"1\" class=\"dataframe\">\n",
       "  <thead>\n",
       "    <tr style=\"text-align: right;\">\n",
       "      <th></th>\n",
       "      <th>vs</th>\n",
       "      <th>game</th>\n",
       "      <th>quarter</th>\n",
       "      <th>time</th>\n",
       "      <th>description</th>\n",
       "      <th>basket</th>\n",
       "    </tr>\n",
       "  </thead>\n",
       "  <tbody>\n",
       "    <tr>\n",
       "      <th>0</th>\n",
       "      <td>ORL</td>\n",
       "      <td>1</td>\n",
       "      <td>1</td>\n",
       "      <td>9:47</td>\n",
       "      <td>Kobe Bryant makes 4-foot two point shot</td>\n",
       "      <td>H</td>\n",
       "    </tr>\n",
       "    <tr>\n",
       "      <th>1</th>\n",
       "      <td>ORL</td>\n",
       "      <td>1</td>\n",
       "      <td>1</td>\n",
       "      <td>9:07</td>\n",
       "      <td>Kobe Bryant misses jumper</td>\n",
       "      <td>M</td>\n",
       "    </tr>\n",
       "    <tr>\n",
       "      <th>2</th>\n",
       "      <td>ORL</td>\n",
       "      <td>1</td>\n",
       "      <td>1</td>\n",
       "      <td>8:11</td>\n",
       "      <td>Kobe Bryant misses 7-foot jumper</td>\n",
       "      <td>M</td>\n",
       "    </tr>\n",
       "    <tr>\n",
       "      <th>3</th>\n",
       "      <td>ORL</td>\n",
       "      <td>1</td>\n",
       "      <td>1</td>\n",
       "      <td>7:41</td>\n",
       "      <td>Kobe Bryant makes 16-foot jumper (Derek Fisher...</td>\n",
       "      <td>H</td>\n",
       "    </tr>\n",
       "    <tr>\n",
       "      <th>4</th>\n",
       "      <td>ORL</td>\n",
       "      <td>1</td>\n",
       "      <td>1</td>\n",
       "      <td>7:03</td>\n",
       "      <td>Kobe Bryant makes driving layup</td>\n",
       "      <td>H</td>\n",
       "    </tr>\n",
       "  </tbody>\n",
       "</table>\n",
       "</div>"
      ],
      "text/plain": [
       "    vs  game quarter  time                                        description  \\\n",
       "0  ORL     1       1  9:47            Kobe Bryant makes 4-foot two point shot   \n",
       "1  ORL     1       1  9:07                          Kobe Bryant misses jumper   \n",
       "2  ORL     1       1  8:11                   Kobe Bryant misses 7-foot jumper   \n",
       "3  ORL     1       1  7:41  Kobe Bryant makes 16-foot jumper (Derek Fisher...   \n",
       "4  ORL     1       1  7:03                    Kobe Bryant makes driving layup   \n",
       "\n",
       "  basket  \n",
       "0      H  \n",
       "1      M  \n",
       "2      M  \n",
       "3      H  \n",
       "4      H  "
      ]
     },
     "execution_count": 1,
     "metadata": {},
     "output_type": "execute_result"
    }
   ],
   "source": [
    "import warnings\n",
    "warnings.filterwarnings(\"ignore\")\n",
    "\n",
    "import numpy as np\n",
    "import pandas as pd\n",
    "import io\n",
    "import requests\n",
    "\n",
    "df_url = 'https://raw.githubusercontent.com/akmand/datasets/master/openintro/kobe.csv'\n",
    "url_content = requests.get(df_url, verify=False).content\n",
    "kobe = pd.read_csv(io.StringIO(url_content.decode('utf-8')))\n",
    "\n",
    "kobe.head()"
   ]
  },
  {
   "cell_type": "markdown",
   "metadata": {},
   "source": [
    "Let's check the number of games played."
   ]
  },
  {
   "cell_type": "code",
   "execution_count": 2,
   "metadata": {},
   "outputs": [
    {
     "name": "stdout",
     "output_type": "stream",
     "text": [
      "5\n"
     ]
    }
   ],
   "source": [
    "print(kobe['game'].nunique())"
   ]
  },
  {
   "cell_type": "markdown",
   "metadata": {},
   "source": [
    "Five games were played. NBA games are played in four quarters. However, if the score is equal at the end of the 4th quarter, overtimes are played to determine the winning team. Let's check if any game went to overtime."
   ]
  },
  {
   "cell_type": "code",
   "execution_count": 3,
   "metadata": {},
   "outputs": [
    {
     "name": "stdout",
     "output_type": "stream",
     "text": [
      "['1' '2' '3' '4' '1OT']\n"
     ]
    }
   ],
   "source": [
    "print(kobe['quarter'].unique())"
   ]
  },
  {
   "cell_type": "code",
   "execution_count": 4,
   "metadata": {},
   "outputs": [
    {
     "data": {
      "text/html": [
       "<div>\n",
       "<style scoped>\n",
       "    .dataframe tbody tr th:only-of-type {\n",
       "        vertical-align: middle;\n",
       "    }\n",
       "\n",
       "    .dataframe tbody tr th {\n",
       "        vertical-align: top;\n",
       "    }\n",
       "\n",
       "    .dataframe thead th {\n",
       "        text-align: right;\n",
       "    }\n",
       "</style>\n",
       "<table border=\"1\" class=\"dataframe\">\n",
       "  <thead>\n",
       "    <tr style=\"text-align: right;\">\n",
       "      <th></th>\n",
       "      <th>vs</th>\n",
       "      <th>game</th>\n",
       "      <th>quarter</th>\n",
       "      <th>time</th>\n",
       "      <th>description</th>\n",
       "      <th>basket</th>\n",
       "    </tr>\n",
       "  </thead>\n",
       "  <tbody>\n",
       "    <tr>\n",
       "      <th>53</th>\n",
       "      <td>ORL</td>\n",
       "      <td>2</td>\n",
       "      <td>1OT</td>\n",
       "      <td>4:13</td>\n",
       "      <td>Kobe Bryant misses 22-foot jumper</td>\n",
       "      <td>M</td>\n",
       "    </tr>\n",
       "    <tr>\n",
       "      <th>54</th>\n",
       "      <td>ORL</td>\n",
       "      <td>2</td>\n",
       "      <td>1OT</td>\n",
       "      <td>2:17</td>\n",
       "      <td>Kobe Bryant makes 11-foot two point shot</td>\n",
       "      <td>H</td>\n",
       "    </tr>\n",
       "    <tr>\n",
       "      <th>80</th>\n",
       "      <td>ORL</td>\n",
       "      <td>4</td>\n",
       "      <td>1OT</td>\n",
       "      <td>4:13</td>\n",
       "      <td>Kobe Bryant makes 11-foot jumper</td>\n",
       "      <td>H</td>\n",
       "    </tr>\n",
       "    <tr>\n",
       "      <th>81</th>\n",
       "      <td>ORL</td>\n",
       "      <td>4</td>\n",
       "      <td>1OT</td>\n",
       "      <td>3:32</td>\n",
       "      <td>Kobe Bryant makes 19-foot jumper</td>\n",
       "      <td>H</td>\n",
       "    </tr>\n",
       "    <tr>\n",
       "      <th>82</th>\n",
       "      <td>ORL</td>\n",
       "      <td>4</td>\n",
       "      <td>1OT</td>\n",
       "      <td>2:49</td>\n",
       "      <td>Kobe Bryant misses 10-foot jumper</td>\n",
       "      <td>M</td>\n",
       "    </tr>\n",
       "    <tr>\n",
       "      <th>83</th>\n",
       "      <td>ORL</td>\n",
       "      <td>4</td>\n",
       "      <td>1OT</td>\n",
       "      <td>1:58</td>\n",
       "      <td>Kobe Bryant misses 18-foot jumper</td>\n",
       "      <td>M</td>\n",
       "    </tr>\n",
       "    <tr>\n",
       "      <th>84</th>\n",
       "      <td>ORL</td>\n",
       "      <td>4</td>\n",
       "      <td>1OT</td>\n",
       "      <td>0:47</td>\n",
       "      <td>Kobe Bryant misses 15-foot jumper</td>\n",
       "      <td>M</td>\n",
       "    </tr>\n",
       "  </tbody>\n",
       "</table>\n",
       "</div>"
      ],
      "text/plain": [
       "     vs  game quarter  time                               description basket\n",
       "53  ORL     2     1OT  4:13         Kobe Bryant misses 22-foot jumper      M\n",
       "54  ORL     2     1OT  2:17  Kobe Bryant makes 11-foot two point shot      H\n",
       "80  ORL     4     1OT  4:13          Kobe Bryant makes 11-foot jumper      H\n",
       "81  ORL     4     1OT  3:32          Kobe Bryant makes 19-foot jumper      H\n",
       "82  ORL     4     1OT  2:49         Kobe Bryant misses 10-foot jumper      M\n",
       "83  ORL     4     1OT  1:58         Kobe Bryant misses 18-foot jumper      M\n",
       "84  ORL     4     1OT  0:47         Kobe Bryant misses 15-foot jumper      M"
      ]
     },
     "execution_count": 4,
     "metadata": {},
     "output_type": "execute_result"
    }
   ],
   "source": [
    "kobe[kobe['quarter'] == '1OT']"
   ]
  },
  {
   "cell_type": "markdown",
   "metadata": {},
   "source": [
    "We can see that Game 2 and Game 4 went to overtime (encoded as \"1OT\")."
   ]
  },
  {
   "cell_type": "markdown",
   "metadata": {},
   "source": [
    "Before we begin, we need to make sure the data is properly sorted by `game` and `quarter`."
   ]
  },
  {
   "cell_type": "code",
   "execution_count": 5,
   "metadata": {},
   "outputs": [
    {
     "data": {
      "text/html": [
       "<div>\n",
       "<style scoped>\n",
       "    .dataframe tbody tr th:only-of-type {\n",
       "        vertical-align: middle;\n",
       "    }\n",
       "\n",
       "    .dataframe tbody tr th {\n",
       "        vertical-align: top;\n",
       "    }\n",
       "\n",
       "    .dataframe thead th {\n",
       "        text-align: right;\n",
       "    }\n",
       "</style>\n",
       "<table border=\"1\" class=\"dataframe\">\n",
       "  <thead>\n",
       "    <tr style=\"text-align: right;\">\n",
       "      <th></th>\n",
       "      <th>vs</th>\n",
       "      <th>game</th>\n",
       "      <th>quarter</th>\n",
       "      <th>time</th>\n",
       "      <th>description</th>\n",
       "      <th>basket</th>\n",
       "    </tr>\n",
       "  </thead>\n",
       "  <tbody>\n",
       "    <tr>\n",
       "      <th>0</th>\n",
       "      <td>ORL</td>\n",
       "      <td>1</td>\n",
       "      <td>1</td>\n",
       "      <td>9:47</td>\n",
       "      <td>Kobe Bryant makes 4-foot two point shot</td>\n",
       "      <td>H</td>\n",
       "    </tr>\n",
       "    <tr>\n",
       "      <th>1</th>\n",
       "      <td>ORL</td>\n",
       "      <td>1</td>\n",
       "      <td>1</td>\n",
       "      <td>9:07</td>\n",
       "      <td>Kobe Bryant misses jumper</td>\n",
       "      <td>M</td>\n",
       "    </tr>\n",
       "    <tr>\n",
       "      <th>2</th>\n",
       "      <td>ORL</td>\n",
       "      <td>1</td>\n",
       "      <td>1</td>\n",
       "      <td>8:11</td>\n",
       "      <td>Kobe Bryant misses 7-foot jumper</td>\n",
       "      <td>M</td>\n",
       "    </tr>\n",
       "    <tr>\n",
       "      <th>3</th>\n",
       "      <td>ORL</td>\n",
       "      <td>1</td>\n",
       "      <td>1</td>\n",
       "      <td>7:41</td>\n",
       "      <td>Kobe Bryant makes 16-foot jumper (Derek Fisher...</td>\n",
       "      <td>H</td>\n",
       "    </tr>\n",
       "    <tr>\n",
       "      <th>4</th>\n",
       "      <td>ORL</td>\n",
       "      <td>1</td>\n",
       "      <td>1</td>\n",
       "      <td>7:03</td>\n",
       "      <td>Kobe Bryant makes driving layup</td>\n",
       "      <td>H</td>\n",
       "    </tr>\n",
       "    <tr>\n",
       "      <th>...</th>\n",
       "      <td>...</td>\n",
       "      <td>...</td>\n",
       "      <td>...</td>\n",
       "      <td>...</td>\n",
       "      <td>...</td>\n",
       "      <td>...</td>\n",
       "    </tr>\n",
       "    <tr>\n",
       "      <th>128</th>\n",
       "      <td>ORL</td>\n",
       "      <td>3</td>\n",
       "      <td>4</td>\n",
       "      <td>3:33</td>\n",
       "      <td>Bryant Layup Shot: Missed</td>\n",
       "      <td>M</td>\n",
       "    </tr>\n",
       "    <tr>\n",
       "      <th>129</th>\n",
       "      <td>ORL</td>\n",
       "      <td>3</td>\n",
       "      <td>4</td>\n",
       "      <td>2:02</td>\n",
       "      <td>Bryant 3pt Shot: Missed</td>\n",
       "      <td>M</td>\n",
       "    </tr>\n",
       "    <tr>\n",
       "      <th>130</th>\n",
       "      <td>ORL</td>\n",
       "      <td>3</td>\n",
       "      <td>4</td>\n",
       "      <td>00:23.9</td>\n",
       "      <td>Bryant 3pt Shot: Missed</td>\n",
       "      <td>M</td>\n",
       "    </tr>\n",
       "    <tr>\n",
       "      <th>131</th>\n",
       "      <td>ORL</td>\n",
       "      <td>3</td>\n",
       "      <td>4</td>\n",
       "      <td>00:06.9</td>\n",
       "      <td>Bryant 3pt Shot: Missed</td>\n",
       "      <td>M</td>\n",
       "    </tr>\n",
       "    <tr>\n",
       "      <th>132</th>\n",
       "      <td>ORL</td>\n",
       "      <td>3</td>\n",
       "      <td>4</td>\n",
       "      <td>00:00.5</td>\n",
       "      <td>Bryant Layup Shot: Made (31 PTS)</td>\n",
       "      <td>H</td>\n",
       "    </tr>\n",
       "  </tbody>\n",
       "</table>\n",
       "<p>133 rows × 6 columns</p>\n",
       "</div>"
      ],
      "text/plain": [
       "      vs  game quarter     time  \\\n",
       "0    ORL     1       1     9:47   \n",
       "1    ORL     1       1     9:07   \n",
       "2    ORL     1       1     8:11   \n",
       "3    ORL     1       1     7:41   \n",
       "4    ORL     1       1     7:03   \n",
       "..   ...   ...     ...      ...   \n",
       "128  ORL     3       4     3:33   \n",
       "129  ORL     3       4     2:02   \n",
       "130  ORL     3       4  00:23.9   \n",
       "131  ORL     3       4  00:06.9   \n",
       "132  ORL     3       4  00:00.5   \n",
       "\n",
       "                                           description basket  \n",
       "0              Kobe Bryant makes 4-foot two point shot      H  \n",
       "1                            Kobe Bryant misses jumper      M  \n",
       "2                     Kobe Bryant misses 7-foot jumper      M  \n",
       "3    Kobe Bryant makes 16-foot jumper (Derek Fisher...      H  \n",
       "4                      Kobe Bryant makes driving layup      H  \n",
       "..                                                 ...    ...  \n",
       "128                        Bryant Layup Shot: Missed        M  \n",
       "129                          Bryant 3pt Shot: Missed        M  \n",
       "130                          Bryant 3pt Shot: Missed        M  \n",
       "131                          Bryant 3pt Shot: Missed        M  \n",
       "132                 Bryant Layup Shot: Made (31 PTS)        H  \n",
       "\n",
       "[133 rows x 6 columns]"
      ]
     },
     "execution_count": 5,
     "metadata": {},
     "output_type": "execute_result"
    }
   ],
   "source": [
    "kobe"
   ]
  },
  {
   "cell_type": "markdown",
   "metadata": {},
   "source": [
    "We know that five games were played in total. Yet the last rows shows the records of Game 3. Therefore, we should sort the data by `game` and `quarter` in ascending orders.\n",
    "\n",
    "First, let's replace \"1OT\" with \"5\" for the `quarter` column to make sorting easier."
   ]
  },
  {
   "cell_type": "code",
   "execution_count": 6,
   "metadata": {},
   "outputs": [],
   "source": [
    "kobe['quarter'] = kobe['quarter'].replace('1OT', '5') \n",
    "kobe['quarter'] = kobe['quarter'].astype(int)"
   ]
  },
  {
   "cell_type": "markdown",
   "metadata": {},
   "source": [
    "Then, we can sort the data by `game` and `quarter` in ascending orders, and finally begin talking about the concept of probability."
   ]
  },
  {
   "cell_type": "code",
   "execution_count": 7,
   "metadata": {},
   "outputs": [
    {
     "data": {
      "text/html": [
       "<div>\n",
       "<style scoped>\n",
       "    .dataframe tbody tr th:only-of-type {\n",
       "        vertical-align: middle;\n",
       "    }\n",
       "\n",
       "    .dataframe tbody tr th {\n",
       "        vertical-align: top;\n",
       "    }\n",
       "\n",
       "    .dataframe thead th {\n",
       "        text-align: right;\n",
       "    }\n",
       "</style>\n",
       "<table border=\"1\" class=\"dataframe\">\n",
       "  <thead>\n",
       "    <tr style=\"text-align: right;\">\n",
       "      <th></th>\n",
       "      <th>vs</th>\n",
       "      <th>game</th>\n",
       "      <th>quarter</th>\n",
       "      <th>time</th>\n",
       "      <th>description</th>\n",
       "      <th>basket</th>\n",
       "    </tr>\n",
       "  </thead>\n",
       "  <tbody>\n",
       "    <tr>\n",
       "      <th>0</th>\n",
       "      <td>ORL</td>\n",
       "      <td>1</td>\n",
       "      <td>1</td>\n",
       "      <td>9:47</td>\n",
       "      <td>Kobe Bryant makes 4-foot two point shot</td>\n",
       "      <td>H</td>\n",
       "    </tr>\n",
       "    <tr>\n",
       "      <th>1</th>\n",
       "      <td>ORL</td>\n",
       "      <td>1</td>\n",
       "      <td>1</td>\n",
       "      <td>9:07</td>\n",
       "      <td>Kobe Bryant misses jumper</td>\n",
       "      <td>M</td>\n",
       "    </tr>\n",
       "    <tr>\n",
       "      <th>2</th>\n",
       "      <td>ORL</td>\n",
       "      <td>1</td>\n",
       "      <td>1</td>\n",
       "      <td>8:11</td>\n",
       "      <td>Kobe Bryant misses 7-foot jumper</td>\n",
       "      <td>M</td>\n",
       "    </tr>\n",
       "    <tr>\n",
       "      <th>3</th>\n",
       "      <td>ORL</td>\n",
       "      <td>1</td>\n",
       "      <td>1</td>\n",
       "      <td>7:41</td>\n",
       "      <td>Kobe Bryant makes 16-foot jumper (Derek Fisher...</td>\n",
       "      <td>H</td>\n",
       "    </tr>\n",
       "    <tr>\n",
       "      <th>4</th>\n",
       "      <td>ORL</td>\n",
       "      <td>1</td>\n",
       "      <td>1</td>\n",
       "      <td>7:03</td>\n",
       "      <td>Kobe Bryant makes driving layup</td>\n",
       "      <td>H</td>\n",
       "    </tr>\n",
       "    <tr>\n",
       "      <th>...</th>\n",
       "      <td>...</td>\n",
       "      <td>...</td>\n",
       "      <td>...</td>\n",
       "      <td>...</td>\n",
       "      <td>...</td>\n",
       "      <td>...</td>\n",
       "    </tr>\n",
       "    <tr>\n",
       "      <th>128</th>\n",
       "      <td>ORL</td>\n",
       "      <td>5</td>\n",
       "      <td>4</td>\n",
       "      <td>6:22</td>\n",
       "      <td>Kobe Bryant misses 18-foot jumper</td>\n",
       "      <td>M</td>\n",
       "    </tr>\n",
       "    <tr>\n",
       "      <th>129</th>\n",
       "      <td>ORL</td>\n",
       "      <td>5</td>\n",
       "      <td>4</td>\n",
       "      <td>4:26</td>\n",
       "      <td>Kobe Bryant misses 27-foot three point jumper</td>\n",
       "      <td>M</td>\n",
       "    </tr>\n",
       "    <tr>\n",
       "      <th>130</th>\n",
       "      <td>ORL</td>\n",
       "      <td>5</td>\n",
       "      <td>4</td>\n",
       "      <td>3:12</td>\n",
       "      <td>Kobe Bryant misses 27-foot three point jumper</td>\n",
       "      <td>M</td>\n",
       "    </tr>\n",
       "    <tr>\n",
       "      <th>131</th>\n",
       "      <td>ORL</td>\n",
       "      <td>5</td>\n",
       "      <td>4</td>\n",
       "      <td>2:38</td>\n",
       "      <td>Kobe Bryant makes 9-foot two point shot</td>\n",
       "      <td>H</td>\n",
       "    </tr>\n",
       "    <tr>\n",
       "      <th>132</th>\n",
       "      <td>ORL</td>\n",
       "      <td>5</td>\n",
       "      <td>4</td>\n",
       "      <td>2:06</td>\n",
       "      <td>Kobe Bryant misses 13-foot jumper</td>\n",
       "      <td>M</td>\n",
       "    </tr>\n",
       "  </tbody>\n",
       "</table>\n",
       "<p>133 rows × 6 columns</p>\n",
       "</div>"
      ],
      "text/plain": [
       "      vs  game  quarter  time  \\\n",
       "0    ORL     1        1  9:47   \n",
       "1    ORL     1        1  9:07   \n",
       "2    ORL     1        1  8:11   \n",
       "3    ORL     1        1  7:41   \n",
       "4    ORL     1        1  7:03   \n",
       "..   ...   ...      ...   ...   \n",
       "128  ORL     5        4  6:22   \n",
       "129  ORL     5        4  4:26   \n",
       "130  ORL     5        4  3:12   \n",
       "131  ORL     5        4  2:38   \n",
       "132  ORL     5        4  2:06   \n",
       "\n",
       "                                           description basket  \n",
       "0              Kobe Bryant makes 4-foot two point shot      H  \n",
       "1                            Kobe Bryant misses jumper      M  \n",
       "2                     Kobe Bryant misses 7-foot jumper      M  \n",
       "3    Kobe Bryant makes 16-foot jumper (Derek Fisher...      H  \n",
       "4                      Kobe Bryant makes driving layup      H  \n",
       "..                                                 ...    ...  \n",
       "128                  Kobe Bryant misses 18-foot jumper      M  \n",
       "129      Kobe Bryant misses 27-foot three point jumper      M  \n",
       "130      Kobe Bryant misses 27-foot three point jumper      M  \n",
       "131            Kobe Bryant makes 9-foot two point shot      H  \n",
       "132                  Kobe Bryant misses 13-foot jumper      M  \n",
       "\n",
       "[133 rows x 6 columns]"
      ]
     },
     "execution_count": 7,
     "metadata": {},
     "output_type": "execute_result"
    }
   ],
   "source": [
    "kobe.sort_values(by = ['game', 'quarter'], ascending = [True, True], ignore_index = True, inplace = True)  \n",
    "# Note: time is already in descending order for each game and quarter, so we do not need to sort that one.\n",
    "kobe"
   ]
  },
  {
   "cell_type": "markdown",
   "metadata": {},
   "source": [
    "In this data frame, every row records a shot taken by Kobe Bryant. If he hit the shot (made a basket), a hit, `H`, is recorded in the column named basket, otherwise a miss, `M`, is recorded.\n",
    "\n",
    "Just looking at the string of hits and misses, it can be difficult to gauge whether or not it seems like Kobe was shooting with a hot hand. One way we can approach this is by considering the belief that hot hand shooters tend to go on shooting streaks. For this lab, we define the length of a shooting streak to be the ***number of consecutive baskets made until a miss occurs***.\n",
    "\n",
    "For example, in Game 1 Kobe had the following sequence of hits and misses from his nine shot attempts in the first quarter:\n",
    "\n",
    "##### `H M | M | H H M | M | M | M`\n",
    "\n",
    "To verify this use the following command:"
   ]
  },
  {
   "cell_type": "code",
   "execution_count": 8,
   "metadata": {},
   "outputs": [
    {
     "data": {
      "text/plain": [
       "0    H\n",
       "1    M\n",
       "2    M\n",
       "3    H\n",
       "4    H\n",
       "5    M\n",
       "6    M\n",
       "7    M\n",
       "8    M\n",
       "Name: basket, dtype: object"
      ]
     },
     "execution_count": 8,
     "metadata": {},
     "output_type": "execute_result"
    }
   ],
   "source": [
    "kobe['basket'][0:9]"
   ]
  },
  {
   "cell_type": "markdown",
   "metadata": {},
   "source": [
    "Within the nine shot attempts, there are six streaks, which are separated by a \"|\" above. Their lengths are one, zero, two, zero, zero, zero (in order of occurrence)."
   ]
  },
  {
   "cell_type": "markdown",
   "metadata": {},
   "source": [
    "<div class = 'exercise'>\n",
    "<h4>Exercise 1</h4>\n",
    "What does a streak length of 1 mean, i.e. how many hits and misses are in a streak of 1? What about a streak length of 0?\n",
    "</div>"
   ]
  },
  {
   "cell_type": "markdown",
   "metadata": {},
   "source": [
    "The custom function `calc_streak()` can be used to calculate the lengths of all shooting streaks."
   ]
  },
  {
   "cell_type": "code",
   "execution_count": 9,
   "metadata": {},
   "outputs": [
    {
     "name": "stdout",
     "output_type": "stream",
     "text": [
      "[1, 0, 2, 0, 0, 0, 3, 2, 0, 3, 0, 1, 3, 0, 0, 0, 0, 0, 1, 1, 0, 4, 1, 0, 1, 0, 1, 0, 1, 4, 3, 1, 1, 0, 0, 0, 0, 0, 1, 1, 0, 0, 0, 2, 0, 1, 2, 1, 0, 0, 1, 0, 0, 0, 1, 1, 0, 1, 0, 2, 0, 0, 0, 3, 0, 1, 0, 1, 2, 1, 0, 1, 0, 0, 1]\n"
     ]
    }
   ],
   "source": [
    "def calc_streak(x):\n",
    "    all_shoots = list(x)\n",
    "    streak, count = [], 0\n",
    "    \n",
    "    for shoot in all_shoots:\n",
    "        if shoot == 'H':\n",
    "            count += 1\n",
    "        elif shoot == 'M':\n",
    "            streak.append(count)\n",
    "            count = 0\n",
    "    \n",
    "    # If the last shoot is a hit, make sure to append the last count to the streak list as well.\n",
    "    if all_shoots[-1] == 'H':  \n",
    "        streak.append(count)\n",
    "        \n",
    "    return streak  \n",
    "    \n",
    "kobe_streak = calc_streak(kobe['basket'])\n",
    "print(kobe_streak)"
   ]
  },
  {
   "cell_type": "markdown",
   "metadata": {},
   "source": [
    "We can look at the distribution of the lengths of all shooting streaks  with a barplot."
   ]
  },
  {
   "cell_type": "code",
   "execution_count": 10,
   "metadata": {},
   "outputs": [
    {
     "data": {
      "image/png": "[encoded data removed]",
      "text/plain": [
       "<Figure size 720x360 with 1 Axes>"
      ]
     },
     "metadata": {
      "image/png": {
       "height": 315,
       "width": 592
      }
     },
     "output_type": "display_data"
    }
   ],
   "source": [
    "import matplotlib.pyplot as plt\n",
    "%matplotlib inline \n",
    "%config InlineBackend.figure_format = 'retina'\n",
    "plt.style.use('ggplot')\n",
    "plt.rcParams['figure.figsize'] = (10,5)\n",
    "\n",
    "kobe_streak_counts = pd.Series(kobe_streak).value_counts().sort_index()\n",
    "\n",
    "kobe_streak_counts.plot(kind = 'bar', color = 'crimson')\n",
    "plt.xlabel('Length of Shooting Streaks')\n",
    "plt.show(); "
   ]
  },
  {
   "cell_type": "markdown",
   "metadata": {},
   "source": [
    "Note that instead of making a histogram, we chose to make a bar plot. A bar plot is preferable here since our variable is discrete – counts – instead of continuous."
   ]
  },
  {
   "cell_type": "markdown",
   "metadata": {},
   "source": [
    "<div class = 'exercise'>\n",
    "<h4>Exercise 2</h4>\n",
    "Describe the distribution of Kobe's streak lengths from the 2009 NBA finals. What was his typical streak length? How long was his longest streak of baskets?\n",
    "</div>"
   ]
  },
  {
   "cell_type": "markdown",
   "metadata": {},
   "source": [
    "## Compared to What?"
   ]
  },
  {
   "cell_type": "markdown",
   "metadata": {},
   "source": [
    "We've shown that Kobe had some long shooting streaks, but are they long enough to support the belief that he had hot hands? What can we compare them to?\n",
    "\n",
    "To answer these questions, let's return to the idea of *independence*. Two processes are independent if the outcome of one process doesn't effect the outcome of the second. If each shot that a player takes is an independent process, having made or missed your first shot will not affect the probability that you will make or miss your second shot.\n",
    "\n",
    "A shooter with a hot hand will have shots that are *not* independent of one another. Specifically, if the shooter makes his first shot, the hot hand model says he will have a *higher* probability of making his second shot.\n",
    "\n",
    "Let's suppose for a moment that the hot hand model is valid for Kobe. During his career, the percentage of time Kobe makes a basket (i.e. his shooting percentage) is about 45%, or in probability notation,\n",
    "#### `P(shot 1 = H) = 0.45`\n",
    "If he makes the first shot and has a hot hand (not independent shots), then the probability that he makes his second shot would go up to, let's say, 60%,\n",
    "#### `P(shot 2 = H|shot 1 = H) = 0.60`\n",
    "As a result of these increased probabilites, you'd expect Kobe to have longer streaks. Compare this to the skeptical perspective where Kobe does *not* have a hot hand (where each shot is independent of the next). If he hit his first shot, the probability that he makes the second is still 0.45.\n",
    "#### `P(shot 2 = H|shot 1 = H) = 0.45`\n",
    "In other words, making the first shot did nothing to effect the probability that he'd make his second shot. If Kobe's shots are independent, then he'd have the same probability of hitting every shot regardless of his past shots: 45%.\n",
    "\n",
    "Now that we've phrased the situation in terms of independent shots, let's return to the question: how do we tell if Kobe's shooting streaks are long enough to indicate that he has hot hands? We can compare his streak lengths to someone without hot hands: an independent shooter."
   ]
  },
  {
   "cell_type": "markdown",
   "metadata": {},
   "source": [
    "## Simulations in Python"
   ]
  },
  {
   "cell_type": "markdown",
   "metadata": {},
   "source": [
    "While we don't have any data from a shooter we know to have independent shots, that sort of data is very easy to simulate in Python. In a simulation, you set the ground rules of a random process and then the computer uses random numbers to generate an outcome that adheres to those rules. As a simple example, you can simulate flipping a fair coin with the following:"
   ]
  },
  {
   "cell_type": "code",
   "execution_count": 11,
   "metadata": {},
   "outputs": [
    {
     "name": "stdout",
     "output_type": "stream",
     "text": [
      "tails\n"
     ]
    }
   ],
   "source": [
    "import numpy as np\n",
    "\n",
    "outcomes = np.array(['heads', 'tails'])\n",
    "print(np.random.choice(outcomes))"
   ]
  },
  {
   "cell_type": "markdown",
   "metadata": {},
   "source": [
    "The vector `outcomes` can be thought of as a hat with two slips of paper in it: one slip says `heads` and the other says `tails`. The function `random.choice()` draws one slip from the hat and tells us if it was a head or a tail.\n",
    "\n",
    "Run the second command listed above several times. Just like when flipping a coin, sometimes you'll get a heads, sometimes you'll get a tails, but in the long run, you'd expect to get roughly equal numbers of each.\n",
    "\n",
    "If you wanted to simulate flipping a fair coin 100 times, you could either run the function 100 times or, more simply, adjust the `size` argument, which governs how many samples to draw (the `replace = True` argument indicates we put the slip of paper back in the hat before drawing again). Save the resulting array of heads and tails in a new object called sim_fair_coin."
   ]
  },
  {
   "cell_type": "code",
   "execution_count": 12,
   "metadata": {},
   "outputs": [],
   "source": [
    "sim_fair_coin = np.random.choice(outcomes, size = 100, replace = True)"
   ]
  },
  {
   "cell_type": "markdown",
   "metadata": {},
   "source": [
    "To view the results of this simulation, use `unique()` to count up the number of heads and tails:"
   ]
  },
  {
   "cell_type": "code",
   "execution_count": 13,
   "metadata": {},
   "outputs": [
    {
     "name": "stdout",
     "output_type": "stream",
     "text": [
      "[['heads' '55']\n",
      " ['tails' '45']]\n"
     ]
    }
   ],
   "source": [
    "unique, counts = np.unique(sim_fair_coin, return_counts = True)\n",
    "print(np.asarray((unique, counts)).T)"
   ]
  },
  {
   "cell_type": "markdown",
   "metadata": {},
   "source": [
    "Since there are only two elements in `outcomes`, the probability that we \"flip\" a coin and it lands heads is 0.5. Say we're trying to simulate an unfair coin that we know only lands heads 20% of the time. We can adjust for this by adding an argument called `p`, which provides the probabilities associated with each entry in the array."
   ]
  },
  {
   "cell_type": "code",
   "execution_count": 14,
   "metadata": {},
   "outputs": [
    {
     "name": "stdout",
     "output_type": "stream",
     "text": [
      "[['heads' '21']\n",
      " ['tails' '79']]\n"
     ]
    }
   ],
   "source": [
    "sim_unfair_coin = np.random.choice(outcomes, size = 100, replace = True, p = [0.2, 0.8])\n",
    "unique, counts = np.unique(sim_unfair_coin, return_counts = True)\n",
    "print(np.asarray((unique, counts)).T)"
   ]
  },
  {
   "cell_type": "markdown",
   "metadata": {},
   "source": [
    "`p = [0.2, 0.8]` indicates that for the two elements in the outcomes array, we want to select the first one, `heads` with probability 0.2 and the second one, `tails` with probability 0.8. Another way of thinking about this is to think of the outcome space as a bag of 10 chips, where 2 chips are labeled \"head\" and 8 chips \"tail\". Therefore at each draw, the probability of drawing a chip that says \"head\" is 20%, and \"tail\" is 80%."
   ]
  },
  {
   "cell_type": "markdown",
   "metadata": {},
   "source": [
    "<div class = 'exercise'>\n",
    "<h4>Exercise 3</h4>\n",
    "In your simulation of flipping the unfair coin 100 times, how many flips came up heads?\n",
    "</div>"
   ]
  },
  {
   "cell_type": "markdown",
   "metadata": {},
   "source": [
    "In a sense, we've shrunken the size of the slip of paper that says \"heads\", making it less likely to be drawn and we've increased the size of the slip of paper saying \"tails\", making it more likely to be drawn. When we simulated the fair coin, both slips of paper were the same size. This happens by default if you don't provide a `p` argument; all elements in the `outcomes` array have an equal probability of being drawn."
   ]
  },
  {
   "cell_type": "markdown",
   "metadata": {},
   "source": [
    "## Simulating the Independent Shooter"
   ]
  },
  {
   "cell_type": "markdown",
   "metadata": {},
   "source": [
    "Simulating a basketball player who has independent shots uses the same mechanism that we use to simulate a coin flip. To make a valid comparison between Kobe and our simulated independent shooter, we need to align both their shooting percentage and the number of attempted shots."
   ]
  },
  {
   "cell_type": "code",
   "execution_count": 15,
   "metadata": {},
   "outputs": [],
   "source": [
    "outcomes = np.array(['H', 'M'])\n",
    "sim_basket = np.random.choice(outcomes, size = 133, replace = True, p = [0.45, 0.55])"
   ]
  },
  {
   "cell_type": "markdown",
   "metadata": {},
   "source": [
    "With the results of the simulation saved as `sim_basket`, we have the data necessary to compare Kobe to our independent shooter. We can look at Kobe's data alongside our simulated data."
   ]
  },
  {
   "cell_type": "code",
   "execution_count": 16,
   "metadata": {},
   "outputs": [
    {
     "name": "stdout",
     "output_type": "stream",
     "text": [
      "['H' 'M' 'M' 'H' 'H' 'M' 'M' 'M' 'M' 'H' 'H' 'H' 'M' 'H' 'H' 'M' 'M' 'H'\n",
      " 'H' 'H' 'M' 'M' 'H' 'M' 'H' 'H' 'H' 'M' 'M' 'M' 'M' 'M' 'M' 'H' 'M' 'H'\n",
      " 'M' 'M' 'H' 'H' 'H' 'H' 'M' 'H' 'M' 'M' 'H' 'M' 'M' 'H' 'M' 'M' 'H' 'M'\n",
      " 'H' 'H' 'H' 'H' 'M' 'H' 'H' 'H' 'M' 'H' 'M' 'H' 'M' 'M' 'M' 'M' 'M' 'M'\n",
      " 'H' 'M' 'H' 'M' 'M' 'M' 'M' 'H' 'H' 'M' 'M' 'H' 'M' 'H' 'H' 'M' 'H' 'M'\n",
      " 'M' 'M' 'H' 'M' 'M' 'M' 'M' 'H' 'M' 'H' 'M' 'M' 'H' 'M' 'M' 'H' 'H' 'M'\n",
      " 'M' 'M' 'M' 'H' 'H' 'H' 'M' 'M' 'H' 'M' 'M' 'H' 'M' 'H' 'H' 'M' 'H' 'M'\n",
      " 'M' 'H' 'M' 'M' 'M' 'H' 'M']\n"
     ]
    }
   ],
   "source": [
    "print(np.array(kobe['basket']))"
   ]
  },
  {
   "cell_type": "code",
   "execution_count": 17,
   "metadata": {},
   "outputs": [
    {
     "name": "stdout",
     "output_type": "stream",
     "text": [
      "['M' 'M' 'H' 'H' 'M' 'M' 'M' 'M' 'H' 'M' 'M' 'M' 'M' 'H' 'M' 'H' 'H' 'M'\n",
      " 'H' 'H' 'H' 'H' 'M' 'M' 'M' 'H' 'M' 'H' 'M' 'M' 'H' 'H' 'H' 'M' 'M' 'M'\n",
      " 'M' 'M' 'H' 'M' 'H' 'H' 'M' 'H' 'H' 'H' 'H' 'M' 'M' 'H' 'M' 'M' 'M' 'H'\n",
      " 'M' 'M' 'M' 'M' 'H' 'M' 'M' 'H' 'M' 'H' 'H' 'H' 'M' 'M' 'M' 'M' 'M' 'H'\n",
      " 'H' 'H' 'H' 'H' 'H' 'M' 'H' 'M' 'M' 'M' 'M' 'H' 'M' 'M' 'M' 'H' 'M' 'H'\n",
      " 'H' 'M' 'M' 'H' 'M' 'H' 'H' 'M' 'H' 'M' 'H' 'H' 'M' 'M' 'M' 'H' 'M' 'M'\n",
      " 'H' 'M' 'M' 'M' 'M' 'H' 'H' 'M' 'H' 'M' 'H' 'M' 'M' 'H' 'M' 'M' 'M' 'M'\n",
      " 'H' 'M' 'M' 'H' 'M' 'H' 'M']\n"
     ]
    }
   ],
   "source": [
    "print(sim_basket)  # Notice that every time you rerun the simulation above, the results of sim_basket changes."
   ]
  },
  {
   "cell_type": "markdown",
   "metadata": {},
   "source": [
    "Both data sets represent the results of 133 shot attempts, each with the same shooting percentage of 45%. We know that our simulated data is from a shooter that has independent shots. That is, we know the simulated shooter does not have a hot hand."
   ]
  },
  {
   "cell_type": "markdown",
   "metadata": {},
   "source": [
    "---\n",
    "## On Your Own\n",
    "### Comparing Kobe Bryant to the Independent Shooter\n",
    "\n",
    "Using `calc_streak()`, compute the streak lengths of `sim_basket`.\n",
    "\n",
    "<ol>\n",
    "  <li>Describe the distribution of streak lengths. What is the typical streak length for this simulated independent shooter with a 45% shooting percentage? How long is the player's longest streak of baskets in 133 shots?</li><br>\n",
    "  <li>If you were to run the simulation of the independent shooter a second time, how would you expect its streak distribution to compare to the distribution from the question above? Exactly the same? Somewhat similar? Totally different? Explain your reasoning.</li><br>\n",
    "      <li>How does Kobe Bryant's distribution of streak lengths compare to the distribution of streak lengths for the simulated shooter? Using this comparison, do you have evidence that the hot hand model fits Kobe's shooting patterns? Explain.</li>\n",
    "</ol>"
   ]
  },
  {
   "cell_type": "markdown",
   "metadata": {},
   "source": [
    "<div class = \"license\">\n",
    "This lab was adapted by David Akman and Imran Ture from OpenIntro by Andrew Bray and Mine Çetinkaya-Rundel.\n",
    "</div>"
   ]
  },
  {
   "cell_type": "markdown",
   "metadata": {},
   "source": [
    "***\n",
    "www.featureranking.com"
   ]
  }
 ],
 "metadata": {
  "kernelspec": {
   "display_name": "Python 3 (ipykernel)",
   "language": "python",
   "name": "python3"
  },
  "language_info": {
   "codemirror_mode": {
    "name": "ipython",
    "version": 3
   },
   "file_extension": ".py",
   "mimetype": "text/x-python",
   "name": "python",
   "nbconvert_exporter": "python",
   "pygments_lexer": "ipython3",
   "version": "3.8.10"
  }
 },
 "nbformat": 4,
 "nbformat_minor": 4
}
